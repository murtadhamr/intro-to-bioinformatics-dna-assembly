{
 "cells": [
  {
   "cell_type": "markdown",
   "metadata": {},
   "source": [
    "## Read File Fasta dan buat dict{id:seq}"
   ]
  },
  {
   "cell_type": "code",
   "execution_count": 201,
   "metadata": {
    "collapsed": true
   },
   "outputs": [],
   "source": [
    "# from Bio import SeqIO\n",
    "# record_dict = SeqIO.parse(\"pengbio.fasta_2\", \"fasta\")\n",
    "# print(record_dict.id)\n",
    "\n",
    "dict_new = {}\n",
    "dict_n = []\n",
    "index = []\n",
    "\n",
    "#david fasta 2 memuat 5 sequence sample\n",
    "from Bio import SeqIO\n",
    "for record in SeqIO.parse(\"David.fasta_2\", \"fasta\"):\n",
    "    index = record.id.split('.')\n",
    "    dict_new.update({index[1]: str(record.seq)})\n",
    "#     dict_n.append({index[1]:str(record.seq)})"
   ]
  },
  {
   "cell_type": "code",
   "execution_count": 136,
   "metadata": {},
   "outputs": [
    {
     "data": {
      "text/plain": [
       "{'1': 'GGGAATTTTGGACAATGGGCGCAAGCCTGATCCAGCTATTCCGCGTGTGGGATGACGGCCCTCGGGTTGTAAACCACTTTAGTAGAGAACGAAAAGGAGCTATCGAATAAATAGCTCTGCTGACGGTACTCTAAGAATAAGCACCGGCTAACTACGTGCCAGCAGCCGCGGTAATACGTAGGGTGCGAGCGTTAATCGGAATTACTGGGCGTAAAGGGTGTGCAGGCGGCTGAGTAAGACAGATGTGAAATCCCCGGGCTTAACCTGGGAACCGCATATGTGACTGCTTGGCTAGAGTGCGTCAGAGGGAGGTGGAATTCCACGTGTAGCAGTGAAATGCGT',\n",
       " '2': 'GGGAATTTTGGACAATGGGCGCAAGCCTGATCCAGCTATTCCGCGTGTGGGATGACGGCCCTCGGGTTGTAAACTACTTTAGTAGAGAACGAAAAGGAGCTATCGAATAAATAGCTCTGCTGACGGTACTCTAAGAATAAGCACCGGCTAACTACGTGCCAGCAGCCGCGGTAATACGTAGGGTGCGAGCGTTAATCGGAATTACTGGGCGTAAAGGGTGTGCAGGCGGCTGAGTAAGACAGATGTGAATTCCCCGGGCTTAACCTGGGTACCGCATATGTGACTGCTTGGCTAGAGTGCGTCAGAGGGAGGTGGAATTCCACGTGTAGCAGTGAAATGCGT',\n",
       " '3': 'GGGAATTTTGGACAATGGGCGCAAGCCTGATCCAGCTATTCCGCGTGTGGGATGACGGCCCGTCGGGTTGTAAACTACTTTAGTAGAGAACGAAAAGGAGCTATCGAATAAATAGCTCTGCTGACGGTACTCTAAGAATAAGCACCGGCTAACTACGTGCCAGCAGCCGCGGTAATACGTAGGGTGCGAGCGTTAATCGGAATTACTGGGCGTAAAGGGTGTGCAGGCGGCTGAGTAAGACAGATGTGAAATCCCCGGGCTTAACCTGGGAACCGCATATGTGACTGCTTGGCTAGGGTGCGTCAGAGGGGGGTGGAATTCCACGTGTAGCAGTAAAATGCG',\n",
       " '4': 'GGGAATTTTGGACAATGGGCGCAAGCCTGATCCAGCTATTCCGCGTGTGGGATGACGGCCCTCGGGTTGTAAACCACTTTAGTAGAGAACGAAAAGGAGCTATCGAATAAATAGCTCTGCTGACGGTACTCTAAGAATAAGCACCGGCTAACTACGTGCCAGCAGCCGCGGTAATACGTAGGGTGCGAGCGTTAATCGGAATTACTGGGCGTAAAGGGTGTGCAGGCGGCTGAGTAAGACAGATGTGAAATCCCCGGGCATAACCTGGGAACCGCATATGTGACTGCTTGGCTAGAGTGCGTCAGAGGGAGGTGGAATTCCACGTGTAGCAGTGAAATGCGT',\n",
       " '5': 'GGGAATTTTGACAATGGGCGCAAGCCTGATCCAGCTATTCCGCGTGTGGGATGACGGCCCTCGGGTTGTAAACCACTTTAGTAGAGAACGAAAAGGAGCTATCGAATAAATAGCTCTGCTGACGGTACTCTAAGAATAAGCACCGGCTAACTACGTGCCAGCAGCCGCGGTAATACGTAGGGTGCGAGCGTTAATCGGAATTACTGGGCGTAAAGGGTGTGCAGGCGGCTGAGTAAGACAGATGTGAAATCCCCGGGCTTAACCTGGGAACCGCATATGTGACTGCTTGGCTAGAGTGCGTCAGAGGGAGGTGGAATTCCACGTGTAGCAGTGAAATGCGT'}"
      ]
     },
     "execution_count": 136,
     "metadata": {},
     "output_type": "execute_result"
    }
   ],
   "source": [
    "dict_new #nilai seq"
   ]
  },
  {
   "cell_type": "markdown",
   "metadata": {},
   "source": [
    "### menghitung rata rata  panjang seq"
   ]
  },
  {
   "cell_type": "code",
   "execution_count": 139,
   "metadata": {
    "collapsed": true
   },
   "outputs": [],
   "source": [
    "def meanLength(data): \n",
    "    s = 0\n",
    "    tot = 0\n",
    "    for x in data:\n",
    "        s += len(data[x])\n",
    "        tot += 1\n",
    "    return s/float(tot)"
   ]
  },
  {
   "cell_type": "code",
   "execution_count": 140,
   "metadata": {},
   "outputs": [
    {
     "data": {
      "text/plain": [
       "341.8"
      ]
     },
     "execution_count": 140,
     "metadata": {},
     "output_type": "execute_result"
    }
   ],
   "source": [
    "meanLength(dict_new)"
   ]
  },
  {
   "cell_type": "markdown",
   "metadata": {},
   "source": [
    "## fungsi mencari overlap antar 2 seq"
   ]
  },
  {
   "cell_type": "code",
   "execution_count": 141,
   "metadata": {
    "collapsed": true
   },
   "outputs": [],
   "source": [
    "def getOverlap(left, right):\n",
    "    for i in range(len(left)):\n",
    "        if left[i:] == right[:len(left)-i]:\n",
    "            return left[i:]\n",
    "    return ''"
   ]
  },
  {
   "cell_type": "markdown",
   "metadata": {},
   "source": [
    "## mencari overlaps antar seq"
   ]
  },
  {
   "cell_type": "code",
   "execution_count": 143,
   "metadata": {
    "collapsed": true
   },
   "outputs": [],
   "source": [
    "def getAllOverlaps(reads):\n",
    "    d = dict()\n",
    "    for name1, seq1 in reads.items():\n",
    "        for name2, seq2 in reads.items():\n",
    "            if name1 == name2:\n",
    "                continue\n",
    "            if name1 not in d:\n",
    "                d[name1] = dict()\n",
    "            d[name1][name2] = len(getOverlap(seq1, seq2))\n",
    "\n",
    "    return d"
   ]
  },
  {
   "cell_type": "code",
   "execution_count": 180,
   "metadata": {},
   "outputs": [
    {
     "data": {
      "text/plain": [
       "{'1': {'2': 0, '3': 0, '4': 0, '5': 0},\n",
       " '2': {'1': 0, '3': 0, '4': 0, '5': 0},\n",
       " '3': {'1': 1, '2': 1, '4': 1, '5': 1},\n",
       " '4': {'1': 0, '2': 0, '3': 0, '5': 0},\n",
       " '5': {'1': 0, '2': 0, '3': 0, '4': 0}}"
      ]
     },
     "execution_count": 180,
     "metadata": {},
     "output_type": "execute_result"
    }
   ],
   "source": [
    "d=getAllOverlaps(dict_new)\n",
    "d"
   ]
  },
  {
   "cell_type": "code",
   "execution_count": 181,
   "metadata": {
    "collapsed": true
   },
   "outputs": [],
   "source": [
    "def prettyPrint(d):\n",
    "    print (' D  '),\n",
    "    for j in sorted(d, key=int):\n",
    "        print(\"(% 3s)\" % j), #biar spasi panjang\n",
    "    print()\n",
    "\n",
    "    for i in sorted(d, key=int):\n",
    "        print (\"(% 3s)\" % i),\n",
    "        for j in sorted(d, key=int):\n",
    "            if i == j:\n",
    "                s = '  -'\n",
    "            else:\n",
    "                s = \"(% 3s)\" % d[str(i)][str(j)]\n",
    "            print(s),\n",
    "        print()"
   ]
  },
  {
   "cell_type": "code",
   "execution_count": 182,
   "metadata": {},
   "outputs": [],
   "source": [
    "#prettyPrint(d)"
   ]
  },
  {
   "cell_type": "code",
   "execution_count": 183,
   "metadata": {
    "collapsed": true
   },
   "outputs": [],
   "source": [
    "def findFirstRead(overlaps):\n",
    "    for i in overlaps:\n",
    "        print(i)\n",
    "        signifOverlaps = False\n",
    "        for j in d[i]:\n",
    "            if d[j][i] > 3:\n",
    "                signifOverlaps = True\n",
    "        if not signifOverlaps:\n",
    "            return i"
   ]
  },
  {
   "cell_type": "code",
   "execution_count": 184,
   "metadata": {},
   "outputs": [
    {
     "name": "stdout",
     "output_type": "stream",
     "text": [
      "1\n"
     ]
    },
    {
     "data": {
      "text/plain": [
       "'1'"
      ]
     },
     "execution_count": 184,
     "metadata": {},
     "output_type": "execute_result"
    }
   ],
   "source": [
    "findFirstRead(d)"
   ]
  },
  {
   "cell_type": "code",
   "execution_count": 202,
   "metadata": {},
   "outputs": [],
   "source": [
    "def findKeyForLargestValue(d):\n",
    "#     return sorted(d.items(), key=lambda x: x[1])[-1][0]\n",
    "    m = max(d.values())\n",
    "    for k in d:\n",
    "        if d[k] == m:\n",
    "            return k"
   ]
  },
  {
   "cell_type": "code",
   "execution_count": 188,
   "metadata": {
    "collapsed": true
   },
   "outputs": [],
   "source": [
    "def findOrder(first, d):\n",
    "    if max(d[first].values()) < 3:\n",
    "        return [first]\n",
    "    else:\n",
    "        nextRead = findKeyForLargestValue(d[first])\n",
    "        return [first] + findOrder(nextRead, d)"
   ]
  },
  {
   "cell_type": "code",
   "execution_count": 197,
   "metadata": {},
   "outputs": [
    {
     "name": "stdout",
     "output_type": "stream",
     "text": [
      "1\n"
     ]
    }
   ],
   "source": [
    "order=findOrder(findFirstRead(dict_new), getAllOverlaps(dict_new))"
   ]
  },
  {
   "cell_type": "code",
   "execution_count": 198,
   "metadata": {
    "collapsed": true
   },
   "outputs": [],
   "source": [
    "def assembleGenome(readOrder, reads, overlaps):\n",
    "    genome = ''\n",
    "    for readName in readOrder[:-1]:\n",
    "        rightOverlap = max(x for x in overlaps[readName].values() if x >= 3)\n",
    "        genome += reads[readName][:-rightOverlap]\n",
    "    genome += reads[readOrder[-1]]\n",
    "    return genome"
   ]
  },
  {
   "cell_type": "code",
   "execution_count": 205,
   "metadata": {},
   "outputs": [
    {
     "name": "stdout",
     "output_type": "stream",
     "text": [
      "GGGAATTTTGGACAATGGGCGCAAGCCTGATCCAGCTATTCCGCGTGTGGGATGACGGCCCTCGGGTTGTAAACCACTTTAGTAGAGAACGAAAAGGAGCTATCGAATAAATAGCTCTGCTGACGGTACTCTAAGAATAAGCACCGGCTAACTACGTGCCAGCAGCCGCGGTAATACGTAGGGTGCGAGCGTTAATCGGAATTACTGGGCGTAAAGGGTGTGCAGGCGGCTGAGTAAGACAGATGTGAAATCCCCGGGCTTAACCTGGGAACCGCATATGTGACTGCTTGGCTAGAGTGCGTCAGAGGGAGGTGGAATTCCACGTGTAGCAGTGAAATGCGT\n",
      "Reference gen terpanjang 342\n"
     ]
    }
   ],
   "source": [
    "reference = assembleGenome(order,dict_new,d)\n",
    "print (reference)\n",
    "print (\"Reference gen terpanjang\",len(reference))\n"
   ]
  }
 ],
 "metadata": {
  "kernelspec": {
   "display_name": "Python 3",
   "language": "python",
   "name": "python3"
  },
  "language_info": {
   "codemirror_mode": {
    "name": "ipython",
    "version": 3
   },
   "file_extension": ".py",
   "mimetype": "text/x-python",
   "name": "python",
   "nbconvert_exporter": "python",
   "pygments_lexer": "ipython3",
   "version": "3.6.0"
  }
 },
 "nbformat": 4,
 "nbformat_minor": 2
}
